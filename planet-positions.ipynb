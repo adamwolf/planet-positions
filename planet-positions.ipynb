{
 "cells": [
  {
   "cell_type": "code",
   "execution_count": 13,
   "metadata": {
    "pycharm": {
     "is_executing": false,
     "name": "#%%\n"
    }
   },
   "outputs": [],
   "source": [
    "%matplotlib inline"
   ]
  },
  {
   "cell_type": "markdown",
   "metadata": {},
   "source": [
    "# Planet Positions in the Solar System\n",
    "\n",
    "I wanted to make some jewelry that had a representation of the solar system on specific dates. (I've written more about this project at https://www.feelslikeburning.com/blog/2020/03/08/milling-planetary-position-jewelry/)\n",
    "\n",
    "Let's get some planet positions, as looking down onto the ecliptic.  (Imagine scaling the solar system down so it fits into a pizza box.  This is analogous to opening the pizza box and looking down onto the pizza.)\n",
    "\n",
    "First, let's install sunpy."
   ]
  },
  {
   "cell_type": "code",
   "execution_count": 14,
   "metadata": {
    "pycharm": {
     "is_executing": false
    }
   },
   "outputs": [],
   "source": [
    "%%capture\n",
    "!pip install sunpy"
   ]
  },
  {
   "cell_type": "markdown",
   "metadata": {},
   "source": [
    "Alright.  Slick.  Next, let's get polar coordinates for each planet position at a specific time and date."
   ]
  },
  {
   "cell_type": "code",
   "execution_count": 15,
   "metadata": {
    "pycharm": {
     "is_executing": false
    }
   },
   "outputs": [],
   "source": [
    "from sunpy.coordinates import get_body_heliographic_stonyhurst\n",
    "from astropy.time import Time\n",
    "import matplotlib.pyplot as plt\n",
    "import numpy as np\n",
    "import math\n",
    "\n",
    "obstime = Time('2016-11-19T00:00:00.000')\n",
    "\n",
    "planets = ['mercury', 'venus', 'earth', 'mars', 'jupiter', 'saturn', 'uranus', 'neptune']\n",
    "\n",
    "def getPlanetPositions(t, planets):\n",
    "    planet_locations = {}\n",
    "    for planet in planets:\n",
    "        planet_locations[planet] = get_body_heliographic_stonyhurst(planet, time=t)\n",
    "    return planet_locations\n",
    "planet_locations = getPlanetPositions(obstime, planets)"
   ]
  },
  {
   "cell_type": "markdown",
   "metadata": {},
   "source": [
    "Now, we have a dictionary of the planets, with SkyCoords representing their locations at that time.  The SkyCoords have their radii in AU, and \"the angle\".  Let's make a plot!"
   ]
  },
  {
   "cell_type": "code",
   "execution_count": null,
   "metadata": {
    "pycharm": {
     "is_executing": true
    }
   },
   "outputs": [
    {
     "name": "stdout",
     "text": [
      "Planet: mercury ; Angle: -138.71659367265096 deg; Distance 0.4591364306880638 AU\n",
      "Planet: venus ; Angle: -75.8665408553141 deg; Distance 0.7275635089618558 AU\n",
      "Planet: earth ; Angle: 1.0468520638021209e-14 deg; Distance 0.988243846284641 AU\n",
      "Planet: mars ; Angle: -67.8215510630202 deg; Distance 1.3842544990077617 AU\n",
      "Planet: jupiter ; Angle: 130.55847061228263 deg; Distance 5.45445950842508 AU\n",
      "Planet: saturn ; Angle: -159.20559304717574 deg; Distance 10.044940604242097 AU\n",
      "Planet: uranus ; Angle: -34.173907270634004 deg; Distance 19.942403420444883 AU\n",
      "Planet: neptune ; Angle: -76.16720035685847 deg; Distance 29.953125915995496 AU\n"
     ],
     "output_type": "stream"
    }
   ],
   "source": [
    "plt.rcParams['figure.figsize'] = [15, 15]\n",
    "\n",
    "fig = plt.figure()\n",
    "ax1 = plt.subplot(1, 1, 1, projection='polar')\n",
    "for planet, coord in planet_locations.items():\n",
    "    print(\"Planet: {} ; Angle: {}; Distance {}\".format(planet, coord.lon, coord.radius))\n",
    "    plt.polar(np.deg2rad(coord.lon), coord.radius, 'o', label=planet)\n",
    "plt.legend()\n",
    "plt.show()"
   ]
  },
  {
   "cell_type": "markdown",
   "metadata": {
    "pycharm": {
     "is_executing": false,
     "name": "#%% md\n"
    }
   },
   "source": [
    "(Note that the concentric circles are not orbits, they are part of the polar graph \"grid\".)\n",
    "\n",
    "\n",
    "Wow! Neptune is like 30 AU out!\n",
    "\n",
    "After checking this with some online tools, to try to verify that I didn't just generate nonsense, I thought about what I wanted my art to look like.\n",
    "\n",
    "I want to make some rays from the sun, pointing at each planet, rather than a set of concent orbits.\n",
    "\n",
    "Let's get them on the unit circle."
   ]
  },
  {
   "cell_type": "code",
   "execution_count": null,
   "metadata": {
    "pycharm": {
     "is_executing": true,
     "name": "#%%\n"
    }
   },
   "outputs": [],
   "source": [
    "fig, ax = plt.subplots(1)\n",
    "for planet, coord in planet_locations.items():\n",
    "    x = np.cos(np.degrees(coord.lon))\n",
    "    y = np.sin(np.degrees(coord.lon))\n",
    "    plt.scatter(x, y, label=planet)\n",
    "\n",
    "#now let's do a circle\n",
    "theta = np.linspace(0, 2*np.pi, 100)\n",
    "r = np.sqrt(1.0)\n",
    "x1 = r*np.cos(theta)\n",
    "x2 = r*np.sin(theta)\n",
    "ax.plot(x1, x2)\n",
    "\n",
    "plt.legend()\n",
    "plt.show()"
   ]
  },
  {
   "cell_type": "markdown",
   "metadata": {
    "pycharm": {
     "name": "#%% md\n"
    }
   },
   "source": [
    "That's pretty slick.  Now let's make rays that point at those places.\n",
    "\n",
    "Instead of scaling the lengths directly, let's just make Neptune the longest and Mercury the shortest, and split the rest evenly.\n",
    "\n",
    "Let's try a quiver plot."
   ]
  },
  {
   "cell_type": "code",
   "execution_count": null,
   "metadata": {
    "pycharm": {
     "is_executing": true,
     "name": "#%%\n"
    }
   },
   "outputs": [],
   "source": [
    "fig, ax = plt.subplots(1)\n",
    "vectors = []\n",
    "\n",
    "for planet, coord in planet_locations.items():\n",
    "    x = np.cos(coord.lon)\n",
    "    y = np.sin(coord.lon)\n",
    "    length = math.sqrt(x**2 + y**2) \n",
    "    index = planets.index(planet)\n",
    "    rank = (1+index)/len(planet_locations)\n",
    "    vectors.append((0, 0,  rank*x/length, rank*y/length))\n",
    "    plt.scatter(x, y, label=planet)\n",
    "\n",
    "a = np.array(vectors)\n",
    "x, y, u, v = zip(*a)\n",
    "plt.quiver(x, y, u, v, angles='xy', scale_units='xy', scale=1)\n",
    "plt.draw()\n",
    "plt.ylim(-2,2)\n",
    "plt.xlim(-2,2)\n",
    "plt.show()"
   ]
  },
  {
   "cell_type": "markdown",
   "metadata": {
    "pycharm": {
     "name": "#%% md\n"
    }
   },
   "source": [
    "That looks a little more Chaos Magicky than I'm going for with this project, so let's try just lines.\n"
   ]
  },
  {
   "cell_type": "code",
   "execution_count": null,
   "metadata": {
    "pycharm": {
     "is_executing": true,
     "name": "#%%\n"
    }
   },
   "outputs": [],
   "source": [
    "from matplotlib.collections import LineCollection\n",
    "\n",
    "\n",
    "def generatePlanetPositionsPlot(t, planets=None):\n",
    "    fig, ax = plt.subplots(1)\n",
    "\n",
    "    if planets is None:\n",
    "        planets = ['mercury', 'venus', 'earth', 'mars', 'jupiter', 'saturn', 'uranus', 'neptune']\n",
    "    planet_locations = getPlanetPositions(t, planets)\n",
    "    \n",
    "    lines = []\n",
    "    for planet, coord in planet_locations.items():\n",
    "        x = np.cos(coord.lon)\n",
    "        y = np.sin(coord.lon)\n",
    "        length = math.sqrt(x**2 + y**2)  #I'm certain there is a better way \n",
    "        rank = (1+planets.index(planet))/len(planets)\n",
    "        lines.append(([0, 0], [rank*x/length, rank*y/length]))\n",
    "        \n",
    "    lc = LineCollection(lines, lw=3)\n",
    "    \n",
    "    plt.gca().add_collection(lc)\n",
    "    plt.ylim(-1,1)\n",
    "    plt.xlim(-1,1)\n",
    "    #hide the axis for saving\n",
    "    plt.axis('off')\n",
    "    \n",
    "    #plt.savefig(\"{}.svg\".format(t)) #uncomment to save to svg\n",
    "    #plt.savefig(\"{}.png\".format(t)) #uncomment to save to png\n",
    "\n",
    "    plt.show()\n",
    "\n",
    "generatePlanetPositionsPlot(Time('2016-11-12T00:00:00.000'))"
   ]
  },
  {
   "cell_type": "markdown",
   "metadata": {
    "pycharm": {
     "name": "#%% md\n"
    }
   },
   "source": [
    "Wonderful!  This is exactly what I want.\n",
    "\n",
    "If you run this with different dates, you'll notice that Earth is always at 0 degrees.  This is actually an innate part of the coordinate system used (Stonyhurst coordinates).\n",
    "\n",
    "I want to switch that up, so I can make animations, but this worked well enough and I ran into a deadline.  If any of you space folks have any tips on a different coordinate system that will be closer to what I want, let me know!"
   ]
  }
 ],
 "metadata": {
  "kernelspec": {
   "display_name": "Python 3",
   "language": "python",
   "name": "python3"
  },
  "language_info": {
   "codemirror_mode": {
    "name": "ipython",
    "version": 3
   },
   "file_extension": ".py",
   "mimetype": "text/x-python",
   "name": "python",
   "nbconvert_exporter": "python",
   "pygments_lexer": "ipython3",
   "version": "3.7.6"
  },
  "pycharm": {
   "stem_cell": {
    "cell_type": "raw",
    "metadata": {
     "collapsed": false
    },
    "source": []
   }
  }
 },
 "nbformat": 4,
 "nbformat_minor": 1
}
